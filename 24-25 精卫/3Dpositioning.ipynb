{
 "cells": [
  {
   "cell_type": "markdown",
   "metadata": {},
   "source": [
    "# 3D 三点角度定位点 X\n",
    "给定 A、B、C 三点坐标以及它们之间的角度，通过向量夹角构建方程，求解出点 X 的三维坐标，并进行三维可视化。"
   ]
  },
  {
   "cell_type": "code",
   "execution_count": null,
   "metadata": {},
   "outputs": [],
   "source": [
    "import cv2\n",
    "import numpy as np\n",
    "import matplotlib.pyplot as plt\n",
    "from scipy.optimize import fsolve\n",
    "from mpl_toolkits.mplot3d import Axes3D"
   ]
  },
  {
   "cell_type": "markdown",
   "metadata": {},
   "source": [
    "## 输入三维坐标与角度（单位：角度制）"
   ]
  },
  {
   "cell_type": "code",
   "execution_count": null,
   "metadata": {},
   "outputs": [],
   "source": [
    "x_A = int(input(\"Ax: \"))\n",
    "y_A = int(input(\"Ay: \"))\n",
    "z_A = int(input(\"Az: \"))\n",
    "x_B = int(input(\"Bx: \"))\n",
    "y_B = int(input(\"By: \"))\n",
    "z_B = int(input(\"Bz: \"))\n",
    "x_C = int(input(\"Cx: \"))\n",
    "y_C = int(input(\"Cy: \"))\n",
    "z_C = int(input(\"Cz: \"))\n",
    "angle_AB = int(input(\"∠AXB (度): \"))\n",
    "angle_BC = int(input(\"∠BXC (度): \"))\n",
    "angle_AC = int(input(\"∠AXC (度): \"))"
   ]
  },
  {
   "cell_type": "markdown",
   "metadata": {},
   "source": [
    "## 定义点和角度（转换为弧度）"
   ]
  },
  {
   "cell_type": "code",
   "execution_count": null,
   "metadata": {},
   "outputs": [],
   "source": [
    "A = np.array([x_A, y_A, z_A])\n",
    "B = np.array([x_B, y_B, z_B])\n",
    "C = np.array([x_C, y_C, z_C])\n",
    "theta_AB = np.radians(angle_AB)\n",
    "theta_BC = np.radians(angle_BC)\n",
    "theta_AC = np.radians(angle_AC)"
   ]
  },
  {
   "cell_type": "markdown",
   "metadata": {},
   "source": [
    "## 非线性方程组构建与求解"
   ]
  },
  {
   "cell_type": "code",
   "execution_count": null,
   "metadata": {},
   "outputs": [],
   "source": [
    "def equations(vars):\n",
    "    x, y, z = vars\n",
    "    AX = np.array([x - A[0], y - A[1], z - A[2]])\n",
    "    BX = np.array([x - B[0], y - B[1], z - B[2]])\n",
    "    CX = np.array([x - C[0], y - C[1], z - C[2]])\n",
    "    norm_AX = np.linalg.norm(AX)\n",
    "    norm_BX = np.linalg.norm(BX)\n",
    "    norm_CX = np.linalg.norm(CX)\n",
    "    dot_AB = np.dot(AX, BX)\n",
    "    dot_AC = np.dot(AX, CX)\n",
    "    dot_BC = np.dot(BX, CX)\n",
    "    eq1 = dot_AB - norm_AX * norm_BX * np.cos(theta_AB)\n",
    "    eq2 = dot_AC - norm_AX * norm_CX * np.cos(theta_AC)\n",
    "    eq3 = dot_BC - norm_BX * norm_CX * np.cos(theta_BC)\n",
    "    return [eq1, eq2, eq3]"
   ]
  },
  {
   "cell_type": "code",
   "execution_count": null,
   "metadata": {},
   "outputs": [],
   "source": [
    "x_guess = (x_A + x_B + x_C)/3\n",
    "y_guess = (y_A + y_B + y_C)/3\n",
    "z_guess = (z_A + z_B + z_C)/3\n",
    "initial_guess = np.array([x_guess, y_guess, z_guess])\n",
    "solution = fsolve(equations, initial_guess)\n",
    "x = round(float(solution[0]), 3)\n",
    "y = round(float(solution[1]), 3)\n",
    "z = round(float(solution[2]), 3)\n",
    "print(f\"点X的坐标为: ({x}, {y}, {z})\")"
   ]
  },
  {
   "cell_type": "markdown",
   "metadata": {},
   "source": [
    "## 三维可视化显示点与连线"
   ]
  },
  {
   "cell_type": "code",
   "execution_count": null,
   "metadata": {},
   "outputs": [],
   "source": [
    "points = {\n",
    "    \"A\": (x_A, y_A, z_A),\n",
    "    \"B\": (x_B, y_B, z_B),\n",
    "    \"C\": (x_C, y_C, z_C),\n",
    "    \"X\": (x, y, z)\n",
    "}\n",
    "\n",
    "fig = plt.figure()\n",
    "ax = fig.add_subplot(111, projection='3d')\n",
    "\n",
    "for label, (px, py, pz) in points.items():\n",
    "    ax.scatter(px, py, pz, label=label)\n",
    "    ax.text(px, py, pz, f\"{label}({px}, {py}, {pz})\")\n",
    "\n",
    "ax.plot([points[\"A\"][0], points[\"X\"][0]], [points[\"A\"][1], points[\"X\"][1]], [points[\"A\"][2], points[\"X\"][2]])\n",
    "ax.plot([points[\"B\"][0], points[\"X\"][0]], [points[\"B\"][1], points[\"X\"][1]], [points[\"B\"][2], points[\"X\"][2]])\n",
    "ax.plot([points[\"C\"][0], points[\"X\"][0]], [points[\"C\"][1], points[\"X\"][1]], [points[\"C\"][2], points[\"X\"][2]])\n",
    "\n",
    "ax.set_xlabel('X')\n",
    "ax.set_ylabel('Y')\n",
    "ax.set_zlabel('Z')\n",
    "ax.set_title(\"3D 三点角度求交点 X\")\n",
    "ax.legend()\n",
    "plt.show()"
   ]
  }
 ],
 "metadata": {
  "kernelspec": {
   "display_name": "Python 3",
   "language": "python",
   "name": "python3"
  },
  "language_info": {
   "name": "python",
   "version": ""
  }
 },
 "nbformat": 4,
 "nbformat_minor": 5
}
