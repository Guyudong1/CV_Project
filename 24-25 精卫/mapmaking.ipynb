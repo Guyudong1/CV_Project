{
 "cells": [
  {
   "cell_type": "markdown",
   "metadata": {},
   "source": [
    "# 图像处理与简易地图栅格化\n",
    "使用OpenCV对输入图像进行预处理、颜色分割、边界检测，并最终绘制简易地图并栅格化。"
   ]
  },
  {
   "cell_type": "code",
   "execution_count": null,
   "metadata": {},
   "outputs": [],
   "source": [
    "import numpy as np\n",
    "import cv2\n",
    "from PIL import Image"
   ]
  },
  {
   "cell_type": "markdown",
   "metadata": {},
   "source": [
    "## 1. 加载图片并调整大小"
   ]
  },
  {
   "cell_type": "code",
   "execution_count": null,
   "metadata": {},
   "outputs": [],
   "source": [
    "n = 5  # 可变编号\n",
    "img_path = \"\"  # 指定图像路径\n",
    "img = cv2.imread(img_path)\n",
    "fixed_size = (450, 300)\n",
    "if img is None:\n",
    "    print(\"Can't open image\")\n",
    "    exit()\n",
    "img = cv2.resize(img, fixed_size)"
   ]
  },
  {
   "cell_type": "markdown",
   "metadata": {},
   "source": [
    "## 2. CLAHE 对比度增强（在 LAB 空间中处理亮度）"
   ]
  },
  {
   "cell_type": "code",
   "execution_count": null,
   "metadata": {},
   "outputs": [],
   "source": [
    "clahe = cv2.createCLAHE(clipLimit=3.0, tileGridSize=(8, 8))\n",
    "lab = cv2.cvtColor(img, cv2.COLOR_BGR2LAB)\n",
    "l, a, b = cv2.split(lab)\n",
    "l_enhanced = clahe.apply(l)\n",
    "lab_enhanced = cv2.merge((l_enhanced, a, b))\n",
    "img2 = cv2.cvtColor(lab_enhanced, cv2.COLOR_LAB2BGR)"
   ]
  },
  {
   "cell_type": "markdown",
   "metadata": {},
   "source": [
    "## 3. 转换为BGR空间（暖冷色调整）"
   ]
  },
  {
   "cell_type": "code",
   "execution_count": null,
   "metadata": {},
   "outputs": [],
   "source": [
    "img2 = cv2.cvtColor(img, cv2.COLOR_RGB2BGR)"
   ]
  },
  {
   "cell_type": "markdown",
   "metadata": {},
   "source": [
    "## 4. HSV颜色空间转换与掩码设定"
   ]
  },
  {
   "cell_type": "code",
   "execution_count": null,
   "metadata": {},
   "outputs": [],
   "source": [
    "hsv = cv2.cvtColor(img2, cv2.COLOR_BGR2HSV)\n",
    "lower_red1 = np.array([0, 100, 45])\n",
    "upper_red1 = np.array([10, 255, 255])\n",
    "lower_red2 = np.array([170, 100, 50])\n",
    "upper_red2 = np.array([180, 255, 255])\n",
    "lower_orange = np.array([10, 50, 10])\n",
    "upper_orange = np.array([25, 255, 255])\n",
    "lower_yellow = np.array([20, 100, 110])\n",
    "upper_yellow = np.array([40, 255, 255])\n",
    "lower_brown = np.array([10, 50, 50])\n",
    "upper_brown = np.array([30, 255, 200])\n",
    "lower_white = (200, 200, 200)\n",
    "upper_white = (255, 255, 255)\n",
    "island_color = (144, 238, 144)\n",
    "ocean_color = (255, 200, 150)\n",
    "color_gray = (128, 128, 128)"
   ]
  },
  {
   "cell_type": "markdown",
   "metadata": {},
   "source": [
    "## 5. 掩码合并与岛屿区域提取"
   ]
  },
  {
   "cell_type": "code",
   "execution_count": null,
   "metadata": {},
   "outputs": [],
   "source": [
    "mask_red1 = cv2.inRange(hsv, lower_red1, upper_red1)\n",
    "mask_red2 = cv2.inRange(hsv, lower_red2, upper_red2)\n",
    "mask_orange = cv2.inRange(hsv, lower_orange, upper_orange)\n",
    "mask_yellow = cv2.inRange(hsv, lower_yellow, upper_yellow)\n",
    "mask_brown = cv2.inRange(hsv, lower_brown, upper_brown)\n",
    "warm_mask = mask_red1 | mask_red2 | mask_orange | mask_yellow | mask_brown\n",
    "island_mask = cv2.bitwise_not(warm_mask)\n",
    "kernel = np.ones((5, 5), np.uint8)\n",
    "island_mask = cv2.morphologyEx(island_mask, cv2.MORPH_CLOSE, kernel)"
   ]
  },
  {
   "cell_type": "markdown",
   "metadata": {},
   "source": [
    "## 6. 轮廓提取与边界绘制"
   ]
  },
  {
   "cell_type": "code",
   "execution_count": null,
   "metadata": {},
   "outputs": [],
   "source": [
    "contours, _ = cv2.findContours(island_mask, cv2.RETR_EXTERNAL, cv2.CHAIN_APPROX_SIMPLE)\n",
    "img_boundary = img2.copy()\n",
    "cv2.drawContours(img_boundary, contours, -1, (0, 0, 255), 2)"
   ]
  },
  {
   "cell_type": "markdown",
   "metadata": {},
   "source": [
    "## 7. 简易地图绘制并填充海岛和海洋颜色"
   ]
  },
  {
   "cell_type": "code",
   "execution_count": null,
   "metadata": {},
   "outputs": [],
   "source": [
    "img_map = np.zeros(img2.shape, np.uint8) + 255\n",
    "cv2.drawContours(img_map, contours, -1, (0, 0, 255), 2)\n",
    "cv2.drawContours(img_map, contours, -1, island_color, thickness=cv2.FILLED)\n",
    "mask = cv2.inRange(img_map, lower_white, upper_white)\n",
    "img_map[mask == 255] = ocean_color"
   ]
  },
  {
   "cell_type": "markdown",
   "metadata": {},
   "source": [
    "## 8. 地图栅格化处理"
   ]
  },
  {
   "cell_type": "code",
   "execution_count": null,
   "metadata": {},
   "outputs": [],
   "source": [
    "img_map2 = img_map.copy()\n",
    "height, width = img_map2.shape[:2]\n",
    "grid_size = 20\n",
    "for x in range(0, width, grid_size):\n",
    "    cv2.line(img_map2, (x, 0), (x, height), color_gray, 1)\n",
    "for y in range(0, height, grid_size):\n",
    "    cv2.line(img_map2, (0, y), (width, y), color_gray, 1)"
   ]
  },
  {
   "cell_type": "markdown",
   "metadata": {},
   "source": [
    "## 9. 可视化结果并可选择保存"
   ]
  },
  {
   "cell_type": "code",
   "execution_count": null,
   "metadata": {},
   "outputs": [],
   "source": [
    "res = np.hstack((img, img_boundary, img_map))\n",
    "cv2.imshow(\"res\", res)\n",
    "cv2.imshow(\"img\", img_map)\n",
    "cv2.imshow(\"map\", img_map2)\n",
    "key = cv2.waitKey(0)\n",
    "if key == ord('s'):\n",
    "    save_path = fr\"E:/sophomore/study/pytorch/test/testhhh_image.jpg\"\n",
    "    cv2.imwrite(save_path, res)\n",
    "    print(f\"图片已保存到: {save_path}\")\n",
    "elif key == ord('q'):\n",
    "    cv2.destroyAllWindows()\n",
    "cv2.destroyAllWindows()"
   ]
  }
 ],
 "metadata": {
  "kernelspec": {
   "display_name": "Python 3",
   "language": "python",
   "name": "python3"
  },
  "language_info": {
   "name": "python",
   "version": ""
  }
 },
 "nbformat": 4,
 "nbformat_minor": 5
}
