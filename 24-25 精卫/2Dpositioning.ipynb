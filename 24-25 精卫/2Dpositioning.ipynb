{
 "cells": [
  {
   "cell_type": "markdown",
   "metadata": {},
   "source": [
    "# 三点夹角定位点X\n",
    "输入三点A、B、C坐标与角度，利用向量夹角构建非线性方程组，求解点X坐标并可视化。"
   ]
  },
  {
   "cell_type": "code",
   "execution_count": null,
   "metadata": {},
   "outputs": [],
   "source": [
    "import cv2\n",
    "import numpy as np\n",
    "import matplotlib.pyplot as plt\n",
    "from scipy.optimize import fsolve"
   ]
  },
  {
   "cell_type": "markdown",
   "metadata": {},
   "source": [
    "## 输入点坐标与角度（单位：角度制）"
   ]
  },
  {
   "cell_type": "code",
   "execution_count": null,
   "metadata": {},
   "outputs": [],
   "source": [
    "x_A = int(input(\"Ax: \"))\n",
    "y_A = int(input(\"Ay: \"))\n",
    "x_B = int(input(\"Bx: \"))\n",
    "y_B = int(input(\"By: \"))\n",
    "x_C = int(input(\"Cx: \"))\n",
    "y_C = int(input(\"Cy: \"))\n",
    "angle_AB = int(input(\"∠AXB (度): \"))\n",
    "angle_BC = int(input(\"∠BXC (度): \"))\n",
    "angle_AC = int(input(\"∠AXC (度): \"))"
   ]
  },
  {
   "cell_type": "markdown",
   "metadata": {},
   "source": [
    "## 定义已知点、角度转弧度"
   ]
  },
  {
   "cell_type": "code",
   "execution_count": null,
   "metadata": {},
   "outputs": [],
   "source": [
    "A = np.array([x_A, y_A])\n",
    "B = np.array([x_B, y_B])\n",
    "C = np.array([x_C, y_C])\n",
    "theta_AB = np.radians(angle_AB)\n",
    "theta_BC = np.radians(angle_BC)\n",
    "theta_AC = np.radians(angle_AC)"
   ]
  },
  {
   "cell_type": "markdown",
   "metadata": {},
   "source": [
    "## 定义非线性方程组：根据点积构建角度约束"
   ]
  },
  {
   "cell_type": "code",
   "execution_count": null,
   "metadata": {},
   "outputs": [],
   "source": [
    "def equations(vars):\n",
    "    x, y, z = vars\n",
    "    AX = np.array([x - A[0], y - A[1]])\n",
    "    BX = np.array([x - B[0], y - B[1]])\n",
    "    CX = np.array([x - C[0], y - C[1]])\n",
    "    norm_AX = np.linalg.norm(AX)\n",
    "    norm_BX = np.linalg.norm(BX)\n",
    "    norm_CX = np.linalg.norm(CX)\n",
    "    dot_AB = np.dot(AX, BX)\n",
    "    dot_AC = np.dot(AX, CX)\n",
    "    dot_BC = np.dot(BX, CX)\n",
    "    eq1 = dot_AB - norm_AX * norm_BX * np.cos(theta_AB)\n",
    "    eq2 = dot_AC - norm_AX * norm_CX * np.cos(theta_AC)\n",
    "    eq3 = dot_BC - norm_BX * norm_CX * np.cos(theta_BC)\n",
    "    return [eq1, eq2, eq3]"
   ]
  },
  {
   "cell_type": "markdown",
   "metadata": {},
   "source": [
    "## 解方程组并求得点X坐标"
   ]
  },
  {
   "cell_type": "code",
   "execution_count": null,
   "metadata": {},
   "outputs": [],
   "source": [
    "x_guess = (x_A + x_B + x_C)/3\n",
    "y_guess = (y_A + y_B + y_C)/3\n",
    "initial_guess = np.array([x_guess, y_guess, 0])\n",
    "solution = fsolve(equations, initial_guess)\n",
    "x = round(float(solution[0]), 3)\n",
    "y = round(float(solution[1]), 3)\n",
    "print(f\"点X的坐标为: ({x}, {y})\")"
   ]
  },
  {
   "cell_type": "markdown",
   "metadata": {},
   "source": [
    "## 可视化 A、B、C、X 四点与连线"
   ]
  },
  {
   "cell_type": "code",
   "execution_count": null,
   "metadata": {},
   "outputs": [],
   "source": [
    "points = {\n",
    "    \"A\": (x_A, y_A),\n",
    "    \"B\": (x_B, y_B),\n",
    "    \"C\": (x_C, y_C),\n",
    "    \"X\": (x, y)\n",
    "}\n",
    "\n",
    "plt.figure(figsize=(6, 6))\n",
    "for label, (px, py) in points.items():\n",
    "    plt.scatter(px, py, label=label)\n",
    "    plt.text(px, py, f\"{label}({px}, {py})\")\n",
    "plt.grid(True)\n",
    "plt.axis(\"equal\")\n",
    "\n",
    "plt.plot([points[\"A\"][0], points[\"X\"][0]], [points[\"A\"][1], points[\"X\"][1]])\n",
    "plt.plot([points[\"B\"][0], points[\"X\"][0]], [points[\"B\"][1], points[\"X\"][1]])\n",
    "plt.plot([points[\"C\"][0], points[\"X\"][0]], [points[\"C\"][1], points[\"X\"][1]])\n",
    "\n",
    "plt.legend()\n",
    "plt.title(\"三点角度定位点X\")\n",
    "plt.show()"
   ]
  }
 ],
 "metadata": {
  "kernelspec": {
   "display_name": "Python 3",
   "language": "python",
   "name": "python3"
  },
  "language_info": {
   "name": "python",
   "version": ""
  }
 },
 "nbformat": 4,
 "nbformat_minor": 5
}
