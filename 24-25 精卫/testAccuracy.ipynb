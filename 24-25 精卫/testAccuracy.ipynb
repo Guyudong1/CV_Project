{
 "cells": [
  {
   "cell_type": "markdown",
   "metadata": {},
   "source": [
    "# 岛屿检测准确率评估\n",
    "读取标注 JSON 与检测图像，评估每对图片的像素级重合率（IoU），并绘制准确率对比图。"
   ]
  },
  {
   "cell_type": "code",
   "execution_count": null,
   "metadata": {},
   "outputs": [],
   "source": [
    "import json\n",
    "import cv2\n",
    "import numpy as np\n",
    "import matplotlib.pyplot as plt"
   ]
  },
  {
   "cell_type": "markdown",
   "metadata": {},
   "source": [
    "## 设置测试样本数量及初始化变量"
   ]
  },
  {
   "cell_type": "code",
   "execution_count": null,
   "metadata": {},
   "outputs": [],
   "source": [
    "n = 10  # 测试集中图片对数\n",
    "accuracies = []  # 存储每对图像的IoU"
   ]
  },
  {
   "cell_type": "markdown",
   "metadata": {},
   "source": [
    "## 主循环：读取每对图像与JSON并评估IoU"
   ]
  },
  {
   "cell_type": "code",
   "execution_count": null,
   "metadata": {},
   "outputs": [],
   "source": [
    "for i in range(1, n+1):\n",
    "    json_path = fr\"E:/sophomore/study/pytorch/test/test{i}.json\"\n",
    "    image_path = fr\"E:/sophomore/study/pytorch/test/test{i}_image.jpg\"\n",
    "\n",
    "    with open(json_path, \"r\") as f:\n",
    "        json_data = json.load(f)\n",
    "    saved_image = cv2.imread(image_path)\n",
    "\n",
    "    image_width = json_data[\"imageWidth\"]\n",
    "    image_height = json_data[\"imageHeight\"]\n",
    "    island_mask = np.zeros((image_height, image_width), dtype=np.uint8)\n",
    "    for shape in json_data[\"shapes\"]:\n",
    "        if shape[\"label\"] == \"island\":\n",
    "            points = np.array(shape[\"points\"], dtype=np.int32)\n",
    "            cv2.fillPoly(island_mask, [points], 255)\n",
    "    resized_mask = cv2.resize(island_mask, (450, 300), interpolation=cv2.INTER_NEAREST)\n",
    "    saved_image_resized = cv2.resize(saved_image, (450, 300), interpolation=cv2.INTER_NEAREST)\n",
    "\n",
    "    hsv_image = cv2.cvtColor(saved_image_resized, cv2.COLOR_BGR2HSV)\n",
    "    lower_green = np.array([35, 50, 50])\n",
    "    upper_green = np.array([85, 255, 255])\n",
    "    green_mask = cv2.inRange(hsv_image, lower_green, upper_green)\n",
    "    lower_red1 = np.array([0, 50, 50])\n",
    "    upper_red1 = np.array([10, 255, 255])\n",
    "    lower_red2 = np.array([170, 50, 50])\n",
    "    upper_red2 = np.array([180, 255, 255])\n",
    "    red_mask1 = cv2.inRange(hsv_image, lower_red1, upper_red1)\n",
    "    red_mask2 = cv2.inRange(hsv_image, lower_red2, upper_red2)\n",
    "    red_mask = cv2.bitwise_or(red_mask1, red_mask2)\n",
    "    detected_island_mask = cv2.bitwise_or(green_mask, red_mask)\n",
    "\n",
    "    intersection = np.logical_and(resized_mask, detected_island_mask).sum()\n",
    "    union = np.logical_or(resized_mask, detected_island_mask).sum()\n",
    "    accuracy = intersection / union if union > 0 else 0\n",
    "    print(f\"{i}:\", accuracy)\n",
    "    accuracies.append(accuracy)\n",
    "\n",
    "    plt.figure(figsize=(10, 5))\n",
    "    plt.subplot(1, 2, 1)\n",
    "    plt.imshow(resized_mask, cmap=\"gray\")\n",
    "    plt.axis('off')\n",
    "    plt.title(\"GT Mask\")\n",
    "    plt.subplot(1, 2, 2)\n",
    "    plt.imshow(saved_image_resized[:, :, ::-1])\n",
    "    plt.axis('off')\n",
    "    plt.title(\"Predicted Image\")\n",
    "    plt.show()"
   ]
  },
  {
   "cell_type": "markdown",
   "metadata": {},
   "source": [
    "## 准确率图表可视化（柱状图 + 折线图）"
   ]
  },
  {
   "cell_type": "code",
   "execution_count": null,
   "metadata": {},
   "outputs": [],
   "source": [
    "x = [str(i+1) for i in range(n)]\n",
    "y = accuracies\n",
    "min_prob = min(y)\n",
    "min_index = x[y.index(min_prob)]\n",
    "\n",
    "plt.figure(figsize=(8, 8))\n",
    "plt.bar(x, y, color='skyblue', alpha=0.6, label=\"Probability (Bar)\")\n",
    "plt.plot(x, y, marker='o', linestyle='-', color='b', label=\"Probability (Line)\")\n",
    "plt.axhline(y=min_prob, color='r', linestyle='--', linewidth=1)\n",
    "plt.text(0.1, min_prob, f\"{min_prob:.3f}\", color='r', verticalalignment='bottom')\n",
    "plt.title(\"Probability Distribution (Bar & Line)\")\n",
    "plt.xlabel(\"Index\")\n",
    "plt.ylabel(\"Probability\")\n",
    "plt.ylim(0, 1.0)\n",
    "plt.xticks(x)\n",
    "plt.grid(True, linestyle='--', alpha=0.6)\n",
    "plt.legend()\n",
    "plt.show()"
   ]
  }
 ],
 "metadata": {
  "kernelspec": {
   "display_name": "Python 3",
   "language": "python",
   "name": "python3"
  },
  "language_info": {
   "name": "python",
   "version": ""
  }
 },
 "nbformat": 4,
 "nbformat_minor": 5
}
